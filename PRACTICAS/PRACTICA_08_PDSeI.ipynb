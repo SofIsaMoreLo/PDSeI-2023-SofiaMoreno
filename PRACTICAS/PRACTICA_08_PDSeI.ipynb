{
 "cells": [
  {
   "cell_type": "markdown",
   "metadata": {
    "id": "_HwmPYI7uF9d"
   },
   "source": [
    "**ESCUELA DE INGENIERÍA MECATRÓNICA**\n",
    "\n",
    "## `PROCESAMIENTO DIGITAL DE SEÑALES E IMÁGENES`\n",
    "\n",
    "### `Alumnos: `\n",
    "  ### `- Romero Zavaleta, Joshep Andrés`\n",
    "  ### `- Rodríguez Alva, Luís Fernando`\n",
    "  ### `- Moreno Lozada, Sofía`\n",
    "\n",
    "```\n",
    "PRACTICA 08:Procesamiento de color.\n",
    "```"
   ]
  },
  {
   "cell_type": "markdown",
   "metadata": {
    "id": "-Q8ByGyiuF9i"
   },
   "source": [
    "# <font color=#FF0000>OpenCV</color>\n",
    "\n",
    "* Mas de 2500 algoritmos optimizados\n",
    "\n",
    "* C/C++, Python, Java y MATLAB, soporta Windows, Linux, Android y Mac OS\n",
    "\n",
    "* Cuda y OpenCL (Actualmente en desarrollo)"
   ]
  },
  {
   "cell_type": "markdown",
   "metadata": {},
   "source": [
    "# <font color=#FF0000>RESULTADOS ESPERADOS DE LA EXPERIENCIA</color>"
   ]
  },
  {
   "cell_type": "markdown",
   "metadata": {},
   "source": [
    "## 1) Revise e implemente la interfaz basandose en el snippet de la pagina siguiente."
   ]
  },
  {
   "cell_type": "code",
   "execution_count": 1,
   "metadata": {
    "ExecuteTime": {
     "end_time": "2023-10-02T14:31:22.487773Z",
     "start_time": "2023-10-02T14:31:21.066051Z"
    },
    "id": "RcZTJnk4uF9j"
   },
   "outputs": [],
   "source": [
    "# Importamos las librerías:\n",
    "import tkinter as tk\n",
    "from PIL import Image, ImageTk\n",
    "import numpy as np\n",
    "import cv2"
   ]
  },
  {
   "cell_type": "code",
   "execution_count": 2,
   "metadata": {},
   "outputs": [],
   "source": [
    "def process_frame():\n",
    "    _, frame = cap.read()\n",
    "\n",
    "    hsv = cv2.cvtColor(frame, cv2.COLOR_BGR2HSV)\n",
    "\n",
    "    lower = np.array([0, 90, 50])\n",
    "    upper = np.array([60, 220, 180])\n",
    "\n",
    "    mask = cv2.inRange(hsv, lower, upper)\n",
    "    res = cv2.bitwise_and(frame, frame, mask=mask)\n",
    "\n",
    "    update_label(frame, label_frame)\n",
    "    update_label(mask, label_mask)\n",
    "    update_label(res, label_result)\n",
    "\n",
    "    ventana.after(20, process_frame)\n",
    "\n",
    "def update_label(image, label):\n",
    "    if len(image.shape) == 3:  # Si la imagen es a color\n",
    "        image = cv2.cvtColor(image, cv2.COLOR_BGR2RGB)\n",
    "    else:\n",
    "        image = cv2.cvtColor(image, cv2.COLOR_GRAY2RGB)\n",
    "    image = resize_image(image, 300)\n",
    "    image = Image.fromarray(image)\n",
    "    image_tk = ImageTk.PhotoImage(image=image)\n",
    "    label.config(image=image_tk)\n",
    "    label.image = image_tk\n",
    "    \n",
    "def resize_image(image, max_width):\n",
    "    original_height, original_width, _ = image.shape\n",
    "    ratio = max_width / original_width\n",
    "    height = int(original_height * ratio)\n",
    "    return cv2.resize(image, (max_width, height))\n",
    "\n",
    "ventana = tk.Toplevel()\n",
    "ventana.title(\"Real-time Image Processing with Tkinter\")\n",
    "\n",
    "cap = cv2.VideoCapture(0)\n",
    "\n",
    "label_frame = tk.Label(ventana)\n",
    "label_frame.grid(row=0, column=0, padx=10, pady=10)\n",
    "\n",
    "label_mask = tk.Label(ventana)\n",
    "label_mask.grid(row=0, column=1, padx=10, pady=10)\n",
    "\n",
    "label_result = tk.Label(ventana)\n",
    "label_result.grid(row=0, column=2, padx=10, pady=10)\n",
    "\n",
    "process_frame()\n",
    "ventana.mainloop()"
   ]
  },
  {
   "cell_type": "markdown",
   "metadata": {},
   "source": [
    "## 2) Implemente un algoritmo que le permita realizar la operación de balance de blancos."
   ]
  },
  {
   "cell_type": "code",
   "execution_count": 3,
   "metadata": {},
   "outputs": [],
   "source": [
    "def balance_blancos(img_luv):\n",
    "\n",
    "    u_mean = np.mean(img_luv[:,:,1]) # Calculamos la media del canal U\n",
    "    v_mean = np.mean(img_luv[:,:,2]) # Calculamos la media del canal V\n",
    "\n",
    "    img_luv[:,:,1] = img_luv[:,:,1] - u_mean + 100 # Modificamos U para que la media sea 100\n",
    "    img_luv[:,:,2] = img_luv[:,:,2] - v_mean + 122 # Modificamos V para que la media sea 122\n",
    "\n",
    "    # Imagen LUV al espacio BGR\n",
    "    img_output = cv2.cvtColor(img_luv, cv2.COLOR_LUV2BGR)\n",
    "\n",
    "    return img_output\n",
    "\n",
    "def process_frame():\n",
    "    _, frame = cap.read()\n",
    "\n",
    "    luv = cv2.cvtColor(frame, cv2.COLOR_BGR2LUV)\n",
    "    res = balance_blancos(luv)\n",
    "    \n",
    "    update_label(frame, label_frame) #BGR\n",
    "    update_label(luv, label_mask)    #LUV\n",
    "    update_label(res, label_result)  #BGR\n",
    "\n",
    "    ventana.after(20, process_frame)\n",
    "\n",
    "def update_label(image, label):\n",
    "    image = cv2.cvtColor(image, cv2.COLOR_BGR2RGB) \n",
    "    image = resize_image(image, 300)\n",
    "    image = Image.fromarray(image)\n",
    "    image_tk = ImageTk.PhotoImage(image=image)\n",
    "    label.config(image=image_tk)\n",
    "    label.image = image_tk\n",
    "      \n",
    "def resize_image(image, max_width):\n",
    "    original_height, original_width, _ = image.shape\n",
    "    ratio = max_width / original_width\n",
    "    height = int(original_height * ratio)\n",
    "    return cv2.resize(image, (max_width, height))\n",
    "\n",
    "ventana = tk.Toplevel()\n",
    "ventana.title(\"Real-time Image Processing with Tkinter\")\n",
    "\n",
    "cap = cv2.VideoCapture(0)\n",
    "\n",
    "label_frame = tk.Label(ventana)\n",
    "label_frame.grid(row=0, column=0, padx=10, pady=10)\n",
    "\n",
    "label_mask = tk.Label(ventana)\n",
    "label_mask.grid(row=0, column=1, padx=10, pady=10)\n",
    "\n",
    "label_result = tk.Label(ventana)\n",
    "label_result.grid(row=0, column=2, padx=10, pady=10)\n",
    "\n",
    "process_frame()\n",
    "ventana.mainloop()"
   ]
  },
  {
   "cell_type": "markdown",
   "metadata": {},
   "source": [
    "## 3) Implemente una interfaz que permita ingresar los 3 valores hsv (o cualquier otro espacio de color) y segmentarlos (Agregar 3 TextInput/sliders y un botón)."
   ]
  },
  {
   "cell_type": "code",
   "execution_count": null,
   "metadata": {},
   "outputs": [],
   "source": [
    "# Definimos nuestras variables H S V:\n",
    "\n",
    "h, s, v = 0, 0, 0 # para OpenCV:   H         S         V\n",
    "                  # Rangos:     (0-180)   (0-255)   (0-255)\n",
    "\n",
    "def process_frame():\n",
    "    _, frame = cap.read()\n",
    "\n",
    "    hsv = cv2.cvtColor(frame, cv2.COLOR_BGR2HSV)\n",
    "    \n",
    "    lower = np.array([h,s,v])\n",
    "    upper = np.array([180, 255, 255])\n",
    "    \n",
    "    mask = cv2.inRange(hsv, lower, upper)\n",
    "    \n",
    "    res = cv2.bitwise_and(frame, frame, mask=mask)\n",
    "\n",
    "    update_label(frame, label_frame)\n",
    "    update_label(hsv, label_mask)\n",
    "    update_label(res, label_result)\n",
    "\n",
    "    ventana.after(20, process_frame)\n",
    "def update_label(image, label):\n",
    "    if len(image.shape) == 3:  # Si la imagen es a color\n",
    "        image = cv2.cvtColor(image, cv2.COLOR_BGR2RGB)\n",
    "    else:\n",
    "        image = cv2.cvtColor(image, cv2.COLOR_GRAY2RGB)\n",
    "    image = resize_image(image, 300)\n",
    "    image = Image.fromarray(image)\n",
    "    image_tk = ImageTk.PhotoImage(image=image)\n",
    "    label.config(image=image_tk)\n",
    "    label.image = image_tk\n",
    "    \n",
    "def resize_image(image, max_width):\n",
    "    original_height, original_width, _ = image.shape\n",
    "    ratio = max_width / original_width\n",
    "    height = int(original_height * ratio)\n",
    "    return cv2.resize(image, (max_width, height))\n",
    "\n",
    "def segmentar_imagen(valor):\n",
    "    return slider_n.get(),slider_n1.get(),slider_n2.get()\n",
    "\n",
    "def hola():\n",
    "    global h, s, v\n",
    "    valor = 0\n",
    "    h, s ,v = segmentar_imagen(valor) \n",
    "    \n",
    "ventana = tk.Toplevel()\n",
    "ventana.title(\"Real-time Image Processing with Tkinter\")\n",
    "\n",
    "cap = cv2.VideoCapture(0)\n",
    "\n",
    "label_frame = tk.Label(ventana)\n",
    "label_frame.grid(row=0, column=0, padx=10, pady=10)\n",
    "\n",
    "label_mask = tk.Label(ventana)\n",
    "label_mask.grid(row=0, column=1, padx=10, pady=10)\n",
    "\n",
    "label_result = tk.Label(ventana)\n",
    "label_result.grid(row=0, column=2, padx=10, pady=10)\n",
    "\n",
    "slider_n = tk.Scale(ventana, from_=0, to=179, resolution=1, orient=tk.HORIZONTAL,\n",
    "                    label=\"Valor de H\", command=segmentar_imagen)\n",
    "slider_n.set(0)\n",
    "slider_n.grid(row=1, column=0,columnspan=1, pady=10)\n",
    "\n",
    "slider_n1 = tk.Scale(ventana, from_=0, to=255, resolution=1, orient=tk.HORIZONTAL,\n",
    "                    label=\"Valor de S\", command=segmentar_imagen)\n",
    "slider_n1.set(0)\n",
    "slider_n1.grid(row=1, column=1,columnspan=1, pady=10)\n",
    "\n",
    "slider_n2 = tk.Scale(ventana, from_=0, to=255, resolution=1, orient=tk.HORIZONTAL,\n",
    "                    label=\"Valor de V\", command=segmentar_imagen)\n",
    "slider_n2.set(0)\n",
    "slider_n2.grid(row=1, column=2,columnspan=1, pady=10)\n",
    "\n",
    "\n",
    "boton = tk.Button(ventana,text=\"Procesar\", command=hola)\n",
    "boton.grid(row=3, column=1, columnspan=1, pady=10)\n",
    "\n",
    "process_frame()\n",
    "ventana.mainloop()"
   ]
  }
 ],
 "metadata": {
  "colab": {
   "name": "Practica 06 - Introducción a OpenCV - Operaciones de punto.ipynb",
   "provenance": []
  },
  "kernelspec": {
   "display_name": "Python 3",
   "language": "python",
   "name": "python3"
  },
  "language_info": {
   "codemirror_mode": {
    "name": "ipython",
    "version": 3
   },
   "file_extension": ".py",
   "mimetype": "text/x-python",
   "name": "python",
   "nbconvert_exporter": "python",
   "pygments_lexer": "ipython3",
   "version": "3.6.6"
  },
  "varInspector": {
   "cols": {
    "lenName": 16,
    "lenType": 16,
    "lenVar": 40
   },
   "kernels_config": {
    "python": {
     "delete_cmd_postfix": "",
     "delete_cmd_prefix": "del ",
     "library": "var_list.py",
     "varRefreshCmd": "print(var_dic_list())"
    },
    "r": {
     "delete_cmd_postfix": ") ",
     "delete_cmd_prefix": "rm(",
     "library": "var_list.r",
     "varRefreshCmd": "cat(var_dic_list()) "
    }
   },
   "types_to_exclude": [
    "module",
    "function",
    "builtin_function_or_method",
    "instance",
    "_Feature"
   ],
   "window_display": false
  }
 },
 "nbformat": 4,
 "nbformat_minor": 1
}
