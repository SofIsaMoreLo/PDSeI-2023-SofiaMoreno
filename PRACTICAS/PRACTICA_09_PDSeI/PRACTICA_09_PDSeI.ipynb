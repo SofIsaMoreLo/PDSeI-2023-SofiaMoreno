{
  "nbformat": 4,
  "nbformat_minor": 0,
  "metadata": {
    "colab": {
      "provenance": []
    },
    "kernelspec": {
      "name": "python3",
      "display_name": "Python 3"
    },
    "accelerator": "GPU"
  },
  "cells": [
    {
      "cell_type": "markdown",
      "source": [
        "### ESCUELA DE INGENIERÍA MECATRÓNICA\n",
        "\n",
        "# PROCESAMIENTO DIGITAL DE SEÑALES E IMÁGENES\n",
        "## Alumnos:\n",
        "\n",
        "- Romero Zavaleta, Joshep Andrés\n",
        "- Rodríguez Alva, Luís Fernando\n",
        "- Moreno Lozada, Sofía"
      ],
      "metadata": {
        "id": "cHw-TtY8RXyH"
      }
    },
    {
      "cell_type": "markdown",
      "source": [
        "### PRACTICA 09: Redes Neuronales."
      ],
      "metadata": {
        "id": "jDiUYQQmSeSs"
      }
    },
    {
      "cell_type": "markdown",
      "metadata": {
        "id": "wgcXbUwle_nK"
      },
      "source": [
        "# **Fundamentos de inteligencia artificial**\n",
        "### Mg. Ing. Emerson Maximo Asto Rodriguez"
      ]
    },
    {
      "cell_type": "markdown",
      "metadata": {
        "id": "qqZboFApBN18"
      },
      "source": [
        "A lo largo de este cuaderno, explicaremos cómo usar el poder de la computación en la nube con Google Colab para un ejemplo clásico –*El problema de clasificación de iris*– usando el conjunto de datos https://en.wikipedia.org/wiki/Iris_flower_data_set.\n",
        "\n",
        "Para este problema de clasificación, construiremos una red neuronal artificial completamente conectada (multilayer perceptron).\n",
        "\n",
        "Para el desarrollo de la red neuronal usaremos es [Tensorflow 2.0](https://www.tensorflow.org) con el módulo [Keras](https://keras.io/).\n",
        "\n",
        "\n",
        "### Enunciado del problema\n",
        "\n",
        "* Lograr un modelo neuronal que prediga que especie de flor iris.\n",
        "\n",
        "> #### Objetivo\n",
        "> Entrenar una red neuronal para solucionar el conjunto de datos Iris\n",
        ">\n",
        "> **Pasos a seguir**\n",
        "> - Cargar la base de datos\n",
        "> - Realizar el preprocesamiento de la data\n",
        "> - Construir el modelo\n",
        "> - Fijar hiperparámetros\n",
        "> - Entrenar el modelo\n",
        "> - Guardar y descargar el modelo entrenado\n",
        "> - Realizar predicciones\n",
        "\n",
        "## Instalación de dependencias"
      ]
    },
    {
      "cell_type": "code",
      "metadata": {
        "id": "7D74gMYrD0Fo",
        "colab": {
          "base_uri": "https://localhost:8080/"
        },
        "outputId": "2427b6f1-0700-473e-ee23-94b19b26e1c4"
      },
      "source": [
        "import tensorflow as tf\n",
        "print(tf.__version__)"
      ],
      "execution_count": 3,
      "outputs": [
        {
          "output_type": "stream",
          "name": "stdout",
          "text": [
            "2.15.0\n"
          ]
        }
      ]
    },
    {
      "cell_type": "markdown",
      "metadata": {
        "id": "3ctjdb9BD0dP"
      },
      "source": [
        "## La base de datos Iris"
      ]
    },
    {
      "cell_type": "code",
      "metadata": {
        "id": "-uN3Ro-5BKUq",
        "colab": {
          "base_uri": "https://localhost:8080/",
          "height": 479
        },
        "outputId": "d6051011-377c-49a1-b919-148fe9eda724"
      },
      "source": [
        "from IPython.display import HTML\n",
        "url = 'https://en.wikipedia.org/wiki/Iris_flower_data_set'\n",
        "iframe = '<iframe src=' + url + ' width=\"100%\" height=400></iframe>'\n",
        "HTML(iframe)"
      ],
      "execution_count": 4,
      "outputs": [
        {
          "output_type": "stream",
          "name": "stderr",
          "text": [
            "/usr/local/lib/python3.10/dist-packages/IPython/core/display.py:724: UserWarning: Consider using IPython.display.IFrame instead\n",
            "  warnings.warn(\"Consider using IPython.display.IFrame instead\")\n"
          ]
        },
        {
          "output_type": "execute_result",
          "data": {
            "text/plain": [
              "<IPython.core.display.HTML object>"
            ],
            "text/html": [
              "<iframe src=https://en.wikipedia.org/wiki/Iris_flower_data_set width=\"100%\" height=400></iframe>"
            ]
          },
          "metadata": {},
          "execution_count": 4
        }
      ]
    },
    {
      "cell_type": "markdown",
      "metadata": {
        "id": "MuiBrwaOCBbt"
      },
      "source": [
        "## Importando la base de datos"
      ]
    },
    {
      "cell_type": "code",
      "metadata": {
        "id": "dDoI3H0_B7oF"
      },
      "source": [
        "import keras\n",
        "from keras.models import Sequential\n",
        "from keras.layers import Dense, Dropout\n",
        "\n",
        "from sklearn.datasets import load_iris\n",
        "from sklearn.model_selection import train_test_split\n",
        "\n",
        "import matplotlib.pyplot as plt"
      ],
      "execution_count": 31,
      "outputs": []
    },
    {
      "cell_type": "code",
      "metadata": {
        "id": "LtH71K6vDRff"
      },
      "source": [
        "data = load_iris()\n",
        "\n",
        "features = data[\"data\"]\n",
        "labels = data[\"target\"]"
      ],
      "execution_count": 32,
      "outputs": []
    },
    {
      "cell_type": "code",
      "source": [
        "data.keys()"
      ],
      "metadata": {
        "colab": {
          "base_uri": "https://localhost:8080/"
        },
        "id": "qw_vVI18Pxg6",
        "outputId": "f44d27fb-ffbd-4a2f-cd15-ee299dfed3fc"
      },
      "execution_count": 33,
      "outputs": [
        {
          "output_type": "execute_result",
          "data": {
            "text/plain": [
              "dict_keys(['data', 'target', 'frame', 'target_names', 'DESCR', 'feature_names', 'filename', 'data_module'])"
            ]
          },
          "metadata": {},
          "execution_count": 33
        }
      ]
    },
    {
      "cell_type": "code",
      "source": [
        "data.target_names"
      ],
      "metadata": {
        "colab": {
          "base_uri": "https://localhost:8080/"
        },
        "id": "GcPlzlG5QESC",
        "outputId": "7dcf68cf-56dc-4244-e1d7-ea39aef621dd"
      },
      "execution_count": 34,
      "outputs": [
        {
          "output_type": "execute_result",
          "data": {
            "text/plain": [
              "array(['setosa', 'versicolor', 'virginica'], dtype='<U10')"
            ]
          },
          "metadata": {},
          "execution_count": 34
        }
      ]
    },
    {
      "cell_type": "code",
      "source": [
        "data.feature_names"
      ],
      "metadata": {
        "colab": {
          "base_uri": "https://localhost:8080/"
        },
        "id": "7qwRUOEZQKrZ",
        "outputId": "d8118e3a-2535-4f24-c271-5a205c5a88c9"
      },
      "execution_count": 35,
      "outputs": [
        {
          "output_type": "execute_result",
          "data": {
            "text/plain": [
              "['sepal length (cm)',\n",
              " 'sepal width (cm)',\n",
              " 'petal length (cm)',\n",
              " 'petal width (cm)']"
            ]
          },
          "metadata": {},
          "execution_count": 35
        }
      ]
    },
    {
      "cell_type": "code",
      "source": [
        "labels"
      ],
      "metadata": {
        "colab": {
          "base_uri": "https://localhost:8080/"
        },
        "id": "OdNld83dRRYz",
        "outputId": "9b1d8ed4-a1cf-45e0-a8ba-227a701cb386"
      },
      "execution_count": 36,
      "outputs": [
        {
          "output_type": "execute_result",
          "data": {
            "text/plain": [
              "array([0, 0, 0, 0, 0, 0, 0, 0, 0, 0, 0, 0, 0, 0, 0, 0, 0, 0, 0, 0, 0, 0,\n",
              "       0, 0, 0, 0, 0, 0, 0, 0, 0, 0, 0, 0, 0, 0, 0, 0, 0, 0, 0, 0, 0, 0,\n",
              "       0, 0, 0, 0, 0, 0, 1, 1, 1, 1, 1, 1, 1, 1, 1, 1, 1, 1, 1, 1, 1, 1,\n",
              "       1, 1, 1, 1, 1, 1, 1, 1, 1, 1, 1, 1, 1, 1, 1, 1, 1, 1, 1, 1, 1, 1,\n",
              "       1, 1, 1, 1, 1, 1, 1, 1, 1, 1, 1, 1, 2, 2, 2, 2, 2, 2, 2, 2, 2, 2,\n",
              "       2, 2, 2, 2, 2, 2, 2, 2, 2, 2, 2, 2, 2, 2, 2, 2, 2, 2, 2, 2, 2, 2,\n",
              "       2, 2, 2, 2, 2, 2, 2, 2, 2, 2, 2, 2, 2, 2, 2, 2, 2, 2])"
            ]
          },
          "metadata": {},
          "execution_count": 36
        }
      ]
    },
    {
      "cell_type": "markdown",
      "source": [
        "## División en conjunto de entrenamiento y prueba"
      ],
      "metadata": {
        "id": "-F56pLx4jTxa"
      }
    },
    {
      "cell_type": "markdown",
      "source": [
        "![](https://www.includehelp.com/ml-ai/Images/splitting-data.jpg)"
      ],
      "metadata": {
        "id": "D5l3tulWhdBa"
      }
    },
    {
      "cell_type": "code",
      "source": [
        "input_train, input_test, output_train, output_test = train_test_split(\n",
        "    features, labels, test_size=0.3)"
      ],
      "metadata": {
        "id": "4D9fXwEPiptW"
      },
      "execution_count": 38,
      "outputs": []
    },
    {
      "cell_type": "markdown",
      "source": [
        "## Preprocesamiento de la data\n",
        "\n",
        "Se aplicará una normalización para ayudar al modelo a tener una convergencia mas rápida y una menor pérdida.\n",
        "\n",
        "![](https://www.thoughtco.com/thmb/YljDij3td0_u7ImVJyv3gvB_3Wk=/768x0/filters:no_upscale():max_bytes(150000):strip_icc()/zscore-56a8fa785f9b58b7d0f6e87b.GIF)"
      ],
      "metadata": {
        "id": "xQUfUvImjkxo"
      }
    },
    {
      "cell_type": "code",
      "source": [
        "input_train = input_train.astype('float32')\n",
        "input_test = input_test.astype('float32')\n",
        "\n",
        "mean = input_train.mean(axis=0)\n",
        "input_train -= mean\n",
        "\n",
        "std = input_train.std(axis=0)\n",
        "input_train /= std\n",
        "\n",
        "input_test -= mean\n",
        "input_test /= std"
      ],
      "metadata": {
        "id": "H0n43ydljcdr"
      },
      "execution_count": 39,
      "outputs": []
    },
    {
      "cell_type": "markdown",
      "source": [
        "Y finalmente estamos cambiando nuestras etiquetas a vectores one-hot. Este proceso es esencial para problemas de clasificación como este. También es necesario que funcione nuestra última función de activación \"Softmax\".\n",
        ">\n",
        "\n",
        "Ejemplos de codificación one-hot:\n",
        ">\n",
        "\n",
        "0 (Virginica) se convierte en [1, 0, 0]\n",
        ">\n",
        "\n",
        "1 (Versicolor) se convierte en [0, 1, 0]\n",
        ">\n",
        "\n",
        "2 (Setosa) se convierte en [0, 0, 1]"
      ],
      "metadata": {
        "id": "m48BCKpIkQ6k"
      }
    },
    {
      "cell_type": "code",
      "source": [
        "from tensorflow import keras\n",
        "\n",
        "print(\"Antes de la codificación one-hot\", output_train)\n",
        "\n",
        "output_train = keras.utils.to_categorical(output_train, 3)\n",
        "output_test = keras.utils.to_categorical(output_test, 3)\n",
        "\n",
        "print(\"Despues de la codificación one-hot:\", output_train[0])"
      ],
      "metadata": {
        "id": "0gL17TISkRtT",
        "colab": {
          "base_uri": "https://localhost:8080/"
        },
        "outputId": "7a702fed-bce2-407b-bd09-745eaf2588b7"
      },
      "execution_count": 40,
      "outputs": [
        {
          "output_type": "stream",
          "name": "stdout",
          "text": [
            "Antes de la codificación one-hot [1 0 0 1 1 2 1 0 0 2 2 2 2 2 2 2 0 2 2 1 0 1 2 0 0 2 1 2 0 1 2 2 1 1 1 1 0\n",
            " 2 2 2 1 0 0 2 0 1 0 0 0 1 1 1 2 2 0 2 2 0 2 0 0 1 0 2 1 1 1 1 1 2 0 2 1 2\n",
            " 1 2 2 2 0 2 2 2 0 1 2 0 1 1 0 0 0 2 1 1 1 1 1 2 2 1 0 0 2 1 0]\n",
            "Despues de la codificación one-hot: [0. 1. 0.]\n"
          ]
        }
      ]
    },
    {
      "cell_type": "markdown",
      "source": [
        "## **Modelamiento de la red neuronal**"
      ],
      "metadata": {
        "id": "lZBLg6ZClM9l"
      }
    },
    {
      "cell_type": "markdown",
      "source": [
        "- Ahora, vamos a crear nuestro modelo.Se inicia el objeto secuencial con una lista que contiene las capas que queremos usar.\n",
        "- Capas Densas (Totalmente Conectadas): Son las capas simples que tienen conexiones entre cada neurona de entrada y salida.\n",
        "- Se usaran ReLUs (Unidades Lineales Rectificadas) como funciones de activación para las capas ocultas y la función Softmax para la última capa.\n",
        "\n",
        "![](https://miro.medium.com/max/563/1*4_BDTvgB6WoYVXyxO8lDGA.png)"
      ],
      "metadata": {
        "id": "pnKqvxyPlbmK"
      }
    },
    {
      "cell_type": "code",
      "source": [
        "model = Sequential([\n",
        "  Dense(1500, activation=\"softmax\", input_shape=(4,)),\n",
        "  Dropout(0.5),\n",
        "  Dense(800, activation=\"softmax\"),\n",
        "  Dropout(0.5),\n",
        "  Dense(500, activation=\"softmax\"),\n",
        "  Dropout(0.3),\n",
        "  Dense(3, activation=\"softmax\")\n",
        "])\n",
        "\n",
        "model.summary()"
      ],
      "metadata": {
        "colab": {
          "base_uri": "https://localhost:8080/"
        },
        "id": "m3Fjja42lSTB",
        "outputId": "2a529fd2-8714-4568-cb8b-6d7b03b3c316"
      },
      "execution_count": 41,
      "outputs": [
        {
          "output_type": "stream",
          "name": "stdout",
          "text": [
            "Model: \"sequential_3\"\n",
            "_________________________________________________________________\n",
            " Layer (type)                Output Shape              Param #   \n",
            "=================================================================\n",
            " dense_12 (Dense)            (None, 1500)              7500      \n",
            "                                                                 \n",
            " dropout_9 (Dropout)         (None, 1500)              0         \n",
            "                                                                 \n",
            " dense_13 (Dense)            (None, 800)               1200800   \n",
            "                                                                 \n",
            " dropout_10 (Dropout)        (None, 800)               0         \n",
            "                                                                 \n",
            " dense_14 (Dense)            (None, 500)               400500    \n",
            "                                                                 \n",
            " dropout_11 (Dropout)        (None, 500)               0         \n",
            "                                                                 \n",
            " dense_15 (Dense)            (None, 3)                 1503      \n",
            "                                                                 \n",
            "=================================================================\n",
            "Total params: 1610303 (6.14 MB)\n",
            "Trainable params: 1610303 (6.14 MB)\n",
            "Non-trainable params: 0 (0.00 Byte)\n",
            "_________________________________________________________________\n"
          ]
        }
      ]
    },
    {
      "cell_type": "markdown",
      "source": [
        "- Ahora tenemos que decidir qué optimizador y función de pérdida usar para nuestro modelo. Dado que se trata de un problema de clasificación y dado que estamos utilizando Softmax para la última función de activación, nuestra elección debería ser Categorical Crossentropy.\n",
        "\n",
        "- Y para nuestro optimizador, podemos elegir Adam o Adadelta. Por lo genera funcionan muy bien con muchos problemas diferentes."
      ],
      "metadata": {
        "id": "UcDx_XRdmvKs"
      }
    },
    {
      "cell_type": "code",
      "source": [
        "model.compile(loss=keras.losses.categorical_crossentropy,\n",
        "              optimizer=keras.optimizers.Adam(learning_rate=0.3),\n",
        "              metrics=['accuracy'])"
      ],
      "metadata": {
        "id": "P5sQeznhmXBg"
      },
      "execution_count": 42,
      "outputs": []
    },
    {
      "cell_type": "markdown",
      "source": [
        "## **Entrenamiento**"
      ],
      "metadata": {
        "id": "pNWrGYHJm7i0"
      }
    },
    {
      "cell_type": "code",
      "source": [
        "history = model.fit(input_train, output_train,\n",
        "                    epochs=25,\n",
        "                    validation_split=0.1)"
      ],
      "metadata": {
        "colab": {
          "base_uri": "https://localhost:8080/"
        },
        "id": "z56Tdbh_m-zt",
        "outputId": "1aac5d77-73f6-4003-faa4-f8768272ec41"
      },
      "execution_count": 43,
      "outputs": [
        {
          "output_type": "stream",
          "name": "stdout",
          "text": [
            "Epoch 1/25\n",
            "3/3 [==============================] - 3s 98ms/step - loss: 1.2124 - accuracy: 0.2872 - val_loss: 1.1050 - val_accuracy: 0.2727\n",
            "Epoch 2/25\n",
            "3/3 [==============================] - 0s 17ms/step - loss: 1.1064 - accuracy: 0.3830 - val_loss: 1.2667 - val_accuracy: 0.2727\n",
            "Epoch 3/25\n",
            "3/3 [==============================] - 0s 17ms/step - loss: 1.1369 - accuracy: 0.3830 - val_loss: 1.1275 - val_accuracy: 0.2727\n",
            "Epoch 4/25\n",
            "3/3 [==============================] - 0s 18ms/step - loss: 1.1535 - accuracy: 0.2660 - val_loss: 1.0814 - val_accuracy: 0.4545\n",
            "Epoch 5/25\n",
            "3/3 [==============================] - 0s 16ms/step - loss: 1.1317 - accuracy: 0.2872 - val_loss: 1.1294 - val_accuracy: 0.2727\n",
            "Epoch 6/25\n",
            "3/3 [==============================] - 0s 16ms/step - loss: 1.1049 - accuracy: 0.3830 - val_loss: 1.1569 - val_accuracy: 0.2727\n",
            "Epoch 7/25\n",
            "3/3 [==============================] - 0s 19ms/step - loss: 1.1031 - accuracy: 0.3830 - val_loss: 1.0969 - val_accuracy: 0.2727\n",
            "Epoch 8/25\n",
            "3/3 [==============================] - 0s 16ms/step - loss: 1.0791 - accuracy: 0.3404 - val_loss: 0.9765 - val_accuracy: 0.7273\n",
            "Epoch 9/25\n",
            "3/3 [==============================] - 0s 16ms/step - loss: 0.9151 - accuracy: 0.5426 - val_loss: 0.6838 - val_accuracy: 0.7273\n",
            "Epoch 10/25\n",
            "3/3 [==============================] - 0s 17ms/step - loss: 0.8248 - accuracy: 0.4787 - val_loss: 0.6154 - val_accuracy: 0.5455\n",
            "Epoch 11/25\n",
            "3/3 [==============================] - 0s 17ms/step - loss: 0.6740 - accuracy: 0.6702 - val_loss: 0.5028 - val_accuracy: 0.7273\n",
            "Epoch 12/25\n",
            "3/3 [==============================] - 0s 17ms/step - loss: 0.6274 - accuracy: 0.5957 - val_loss: 0.4835 - val_accuracy: 0.9091\n",
            "Epoch 13/25\n",
            "3/3 [==============================] - 0s 17ms/step - loss: 0.5532 - accuracy: 0.6489 - val_loss: 0.5956 - val_accuracy: 0.5455\n",
            "Epoch 14/25\n",
            "3/3 [==============================] - 0s 17ms/step - loss: 0.5787 - accuracy: 0.7021 - val_loss: 0.4562 - val_accuracy: 0.8182\n",
            "Epoch 15/25\n",
            "3/3 [==============================] - 0s 16ms/step - loss: 0.6754 - accuracy: 0.6702 - val_loss: 0.4137 - val_accuracy: 0.8182\n",
            "Epoch 16/25\n",
            "3/3 [==============================] - 0s 17ms/step - loss: 0.4307 - accuracy: 0.8936 - val_loss: 0.3170 - val_accuracy: 0.8182\n",
            "Epoch 17/25\n",
            "3/3 [==============================] - 0s 18ms/step - loss: 0.2407 - accuracy: 0.9043 - val_loss: 0.2728 - val_accuracy: 0.9091\n",
            "Epoch 18/25\n",
            "3/3 [==============================] - 0s 16ms/step - loss: 0.3570 - accuracy: 0.8723 - val_loss: 0.3111 - val_accuracy: 0.9091\n",
            "Epoch 19/25\n",
            "3/3 [==============================] - 0s 16ms/step - loss: 0.4153 - accuracy: 0.8617 - val_loss: 0.4438 - val_accuracy: 0.8182\n",
            "Epoch 20/25\n",
            "3/3 [==============================] - 0s 16ms/step - loss: 0.4144 - accuracy: 0.9043 - val_loss: 0.4402 - val_accuracy: 0.9091\n",
            "Epoch 21/25\n",
            "3/3 [==============================] - 0s 16ms/step - loss: 0.5374 - accuracy: 0.8298 - val_loss: 0.3753 - val_accuracy: 0.9091\n",
            "Epoch 22/25\n",
            "3/3 [==============================] - 0s 16ms/step - loss: 0.5164 - accuracy: 0.8404 - val_loss: 0.3792 - val_accuracy: 0.9091\n",
            "Epoch 23/25\n",
            "3/3 [==============================] - 0s 16ms/step - loss: 0.6206 - accuracy: 0.7979 - val_loss: 0.4214 - val_accuracy: 0.9091\n",
            "Epoch 24/25\n",
            "3/3 [==============================] - 0s 18ms/step - loss: 0.4582 - accuracy: 0.8617 - val_loss: 0.4605 - val_accuracy: 0.9091\n",
            "Epoch 25/25\n",
            "3/3 [==============================] - 0s 18ms/step - loss: 0.4696 - accuracy: 0.8723 - val_loss: 0.3973 - val_accuracy: 0.9091\n"
          ]
        }
      ]
    },
    {
      "cell_type": "markdown",
      "source": [
        "Mostramos los resultados"
      ],
      "metadata": {
        "id": "zKAXQlhmnOA6"
      }
    },
    {
      "cell_type": "code",
      "source": [
        "loss = history.history['loss']\n",
        "acc = history.history['accuracy']\n",
        "val_loss = history.history['val_loss']\n",
        "val_acc = history.history['val_accuracy']\n",
        "epochs = range(len(loss))\n",
        "\n",
        "f, axarr = plt.subplots(1, 2, figsize=(12, 6))\n",
        "p0 = axarr[0]\n",
        "p1 = axarr[1]\n",
        "\n",
        "p0.set_title(\"Entrenamiento y validación - Pérdidas (loss)\")\n",
        "p0.set_xlabel('Épocas')\n",
        "p1.set_title(\"Entrenamiento y validación - Exactitud (accuracy)\")\n",
        "p1.set_xlabel('Épocas')\n",
        "\n",
        "p0l0 = p0.plot(epochs, loss, \"-b\", label=\"Pérdidas de entrenamiento\")\n",
        "p0l1 = p0.plot( epochs, val_loss, \"-r\", label=\"Pérdidas de validación\")\n",
        "\n",
        "p1l0 = p1.plot(epochs, acc, \"-b\", label=\"Exactitud de entrenamiento\")\n",
        "p1l1 = p1.plot(epochs, val_acc, \"-r\", label=\"Exactitud de validación\")\n",
        "\n",
        "legend0 = p0.legend()\n",
        "legend1 = p1.legend()"
      ],
      "metadata": {
        "colab": {
          "base_uri": "https://localhost:8080/",
          "height": 567
        },
        "id": "7Kr9A_T8nQI7",
        "outputId": "47136ca4-fafc-4b02-e8e5-6e2830ce3255"
      },
      "execution_count": 44,
      "outputs": [
        {
          "output_type": "display_data",
          "data": {
            "text/plain": [
              "<Figure size 1200x600 with 2 Axes>"
            ],
            "image/png": "[encoded data removed]"
          },
          "metadata": {}
        }
      ]
    },
    {
      "cell_type": "markdown",
      "source": [
        "## Evaluación"
      ],
      "metadata": {
        "id": "5xxSs51Yo3oe"
      }
    },
    {
      "cell_type": "code",
      "source": [
        "score = model.evaluate(input_test, output_test)\n",
        "\n",
        "print('Test Loss:', score[0])\n",
        "print('Test Accuracy:', score[1])"
      ],
      "metadata": {
        "colab": {
          "base_uri": "https://localhost:8080/"
        },
        "id": "dc6H9U6EoDRq",
        "outputId": "30723208-91f6-4d3f-c121-365b34c82547"
      },
      "execution_count": 45,
      "outputs": [
        {
          "output_type": "stream",
          "name": "stdout",
          "text": [
            "2/2 [==============================] - 0s 8ms/step - loss: 0.2950 - accuracy: 0.9111\n",
            "Test Loss: 0.294991672039032\n",
            "Test Accuracy: 0.9111111164093018\n"
          ]
        }
      ]
    },
    {
      "cell_type": "code",
      "source": [
        "predictions = model.predict(input_test[0:])\n",
        "\n",
        "true_labels = output_test[0:]\n",
        "\n",
        "for i in range(len(predictions)):\n",
        "  print(\"Predicción:\", data[\"target_names\"][predictions[i].argmax()], \",\",\n",
        "        \"Etiqueta real:\", data[\"target_names\"][true_labels[i].argmax()])"
      ],
      "metadata": {
        "colab": {
          "base_uri": "https://localhost:8080/"
        },
        "id": "1AsCntLLpDzb",
        "outputId": "aa9f2556-6d97-4c7e-d408-aae69be4a288"
      },
      "execution_count": 46,
      "outputs": [
        {
          "output_type": "stream",
          "name": "stdout",
          "text": [
            "2/2 [==============================] - 0s 5ms/step\n",
            "Predicción: versicolor , Etiqueta real: versicolor\n",
            "Predicción: versicolor , Etiqueta real: versicolor\n",
            "Predicción: versicolor , Etiqueta real: versicolor\n",
            "Predicción: setosa , Etiqueta real: setosa\n",
            "Predicción: setosa , Etiqueta real: setosa\n",
            "Predicción: virginica , Etiqueta real: virginica\n",
            "Predicción: versicolor , Etiqueta real: versicolor\n",
            "Predicción: setosa , Etiqueta real: setosa\n",
            "Predicción: virginica , Etiqueta real: virginica\n",
            "Predicción: virginica , Etiqueta real: versicolor\n",
            "Predicción: versicolor , Etiqueta real: versicolor\n",
            "Predicción: versicolor , Etiqueta real: versicolor\n",
            "Predicción: setosa , Etiqueta real: setosa\n",
            "Predicción: versicolor , Etiqueta real: versicolor\n",
            "Predicción: virginica , Etiqueta real: versicolor\n",
            "Predicción: setosa , Etiqueta real: setosa\n",
            "Predicción: virginica , Etiqueta real: virginica\n",
            "Predicción: virginica , Etiqueta real: virginica\n",
            "Predicción: setosa , Etiqueta real: setosa\n",
            "Predicción: setosa , Etiqueta real: setosa\n",
            "Predicción: virginica , Etiqueta real: versicolor\n",
            "Predicción: virginica , Etiqueta real: virginica\n",
            "Predicción: setosa , Etiqueta real: setosa\n",
            "Predicción: virginica , Etiqueta real: virginica\n",
            "Predicción: setosa , Etiqueta real: setosa\n",
            "Predicción: versicolor , Etiqueta real: versicolor\n",
            "Predicción: virginica , Etiqueta real: versicolor\n",
            "Predicción: setosa , Etiqueta real: setosa\n",
            "Predicción: virginica , Etiqueta real: virginica\n",
            "Predicción: setosa , Etiqueta real: setosa\n",
            "Predicción: setosa , Etiqueta real: setosa\n",
            "Predicción: virginica , Etiqueta real: virginica\n",
            "Predicción: setosa , Etiqueta real: setosa\n",
            "Predicción: setosa , Etiqueta real: setosa\n",
            "Predicción: virginica , Etiqueta real: virginica\n",
            "Predicción: setosa , Etiqueta real: setosa\n",
            "Predicción: versicolor , Etiqueta real: versicolor\n",
            "Predicción: versicolor , Etiqueta real: versicolor\n",
            "Predicción: setosa , Etiqueta real: setosa\n",
            "Predicción: setosa , Etiqueta real: setosa\n",
            "Predicción: virginica , Etiqueta real: virginica\n",
            "Predicción: setosa , Etiqueta real: setosa\n",
            "Predicción: virginica , Etiqueta real: virginica\n",
            "Predicción: versicolor , Etiqueta real: versicolor\n",
            "Predicción: setosa , Etiqueta real: setosa\n"
          ]
        }
      ]
    }
  ]
}