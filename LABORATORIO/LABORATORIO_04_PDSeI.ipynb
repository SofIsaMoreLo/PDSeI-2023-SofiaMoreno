{
 "cells": [
  {
   "cell_type": "markdown",
   "metadata": {
    "id": "_HwmPYI7uF9d"
   },
   "source": [
    "**ESCUELA DE INGENIERÍA MECATRÓNICA**\n",
    "\n",
    "## `PROCESAMIENTO DIGITAL DE SEÑALES E IMÁGENES`\n",
    "\n",
    "### `Alumnos: `\n",
    "  ### `- Romero Zavaleta, Joshep Andrés`\n",
    "  ### `- Rodríguez Alva, Luís Fernando`\n",
    "  ### `- Moreno Lozada, Sofía`\n",
    "\n",
    "```\n",
    "Laboratorio 04:Procesamiento en el dominio del espacio.\n",
    "```"
   ]
  },
  {
   "cell_type": "markdown",
   "metadata": {
    "id": "-Q8ByGyiuF9i"
   },
   "source": [
    "# <font color=#FF0000>OpenCV</color>\n",
    "\n",
    "* Mas de 2500 algoritmos optimizados\n",
    "\n",
    "* C/C++, Python, Java y MATLAB, soporta Windows, Linux, Android y Mac OS\n",
    "\n",
    "* Cuda y OpenCL (Actualmente en desarrollo)"
   ]
  },
  {
   "cell_type": "markdown",
   "metadata": {},
   "source": [
    "# <font color=#FF0000>RESULTADOS ESPERADOS DE LA EXPERIENCIA</color>"
   ]
  },
  {
   "cell_type": "markdown",
   "metadata": {},
   "source": [
    "## 1) Implemente el siguiente algoritmo en un entorno local de OpenCV."
   ]
  },
  {
   "cell_type": "code",
   "execution_count": 47,
   "metadata": {
    "ExecuteTime": {
     "end_time": "2023-10-02T14:31:22.487773Z",
     "start_time": "2023-10-02T14:31:21.066051Z"
    },
    "id": "RcZTJnk4uF9j"
   },
   "outputs": [],
   "source": [
    "# Importamos las librerías:\n",
    "import cv2\n",
    "import numpy as np"
   ]
  },
  {
   "cell_type": "code",
   "execution_count": 51,
   "metadata": {},
   "outputs": [],
   "source": [
    "slider_max = 100\n",
    "title_window = 'Brillo'\n",
    "\n",
    "def on_trackbar(val):\n",
    "    dst = src1 + val/255\n",
    "    cv2.imshow(title_window, dst)\n",
    "    \n",
    "src1 = cv2.imread(\"./Imagenes/robotSofia.jpg\")/255\n",
    "\n",
    "try:\n",
    "    cv2.namedWindow(title_window)\n",
    "    trackbar_name = f\"Brillo {slider_max}\"\n",
    "    cv2.createTrackbar(trackbar_name, title_window, 0, slider_max, on_trackbar)\n",
    "    on_trackbar(0)\n",
    "\n",
    "    while True:\n",
    "        key = cv2.waitKey(1)\n",
    "        if key != -1:\n",
    "            break\n",
    "    cv2.destroyAllWindows()\n",
    "\n",
    "except:\n",
    "    cv2.destroyAllWindows()"
   ]
  },
  {
   "cell_type": "markdown",
   "metadata": {},
   "source": [
    "## 2) Implemente un algoritmo que le permita tener un slider para controlar el nivel de suavizado de una imagen. El slider controlara el tamaño del filtro espacial que se aplicará. Y debe poderse seleccionar si se desea un filtro promedio.."
   ]
  },
  {
   "cell_type": "code",
   "execution_count": 39,
   "metadata": {},
   "outputs": [],
   "source": [
    "slider_max = 100\n",
    "title_window = 'Suavizado'\n",
    "\n",
    "# Se crea un diccionario para almacenar el estado de las variables.\n",
    "state = {'use_average_filter': True}\n",
    "\n",
    "def on_trackbar(val):\n",
    "    kernel_size = val // 2 * 2 + 1\n",
    "    if state['use_average_filter']:\n",
    "        kernel = np.ones((kernel_size, kernel_size), np.float32) / (kernel_size * kernel_size)\n",
    "    else:\n",
    "        kernel = cv2.getGaussianKernel(kernel_size, 0)\n",
    "        kernel = kernel * kernel.T\n",
    "    dst = cv2.filter2D(src1, -1, kernel)   \n",
    "    cv2.imshow(title_window, dst)\n",
    "    \n",
    "src1 = cv2.imread(\"./Imagenes/robotSofia.jpg\")/255\n",
    "\n",
    "try:\n",
    "    cv2.namedWindow(title_window)\n",
    "    trackbar_name = f\"Suavizado {slider_max}\"\n",
    "    cv2.createTrackbar(trackbar_name, title_window, 0, slider_max, on_trackbar)\n",
    "    switch_name = \"FiltroProm\"\n",
    "\n",
    "    # Utilizamos una función auxiliar para manejar el cambio en el estado a un filtro promedio.\n",
    "    def switch_change(x):\n",
    "        state['use_average_filter'] = bool(x)  #actualizamos el diccionario.\n",
    "        on_trackbar(cv2.getTrackbarPos(trackbar_name, title_window))\n",
    "\n",
    "    cv2.createTrackbar(switch_name, title_window, 0, 1, switch_change)\n",
    "    on_trackbar(0)\n",
    "\n",
    "    while True:\n",
    "        key = cv2.waitKey(1)\n",
    "        if key != -1:\n",
    "            break\n",
    "    cv2.destroyAllWindows()\n",
    "    \n",
    "except:\n",
    "    cv2.destroyAllWindows()"
   ]
  },
  {
   "cell_type": "markdown",
   "metadata": {},
   "source": [
    "## 3) Implemente un algoritmo que le permita modificar la ganancia de un filtro de alto aumento. Si el slider es 0 debe verse el laplaciano, si es 1, la imagen debe quedar enfatizada. Si es mayor que 1 adicionalmente al enfatizado, la imagen debe tener mas brillo."
   ]
  },
  {
   "cell_type": "code",
   "execution_count": 48,
   "metadata": {},
   "outputs": [],
   "source": [
    "slider_max = 100\n",
    "title_window = \"Ganancia\"\n",
    "\n",
    "def on_trackbar(val):\n",
    "    alpha = val / 100\n",
    "    beta = 0\n",
    "    if alpha == 0: #Si el slider es 0 debe verse el laplaciano\n",
    "        dst = cv2.Laplacian(src1, -1, ksize=3).\n",
    "        \n",
    "    else: # Aumento del brillo.\n",
    "        dst = cv2.convertScaleAbs(cv2.addWeighted(src1, alpha, src1, beta, 0))\n",
    "        \n",
    "        if alpha > 1: #si es 1, la imagen debe quedar enfatizada.\n",
    "            dst = cv2.convertScaleAbs(cv2.addWeighted(dst, 1, np.zeros_like(dst), 0, beta))\n",
    "\n",
    "    cv2.imshow(title_window, dst)\n",
    "\n",
    "src1 = cv2.imread(\"./Imagenes/robotSofia.jpg\")\n",
    "\n",
    "try:\n",
    "    cv2.namedWindow(title_window)\n",
    "    trackbar_name = f\"Gananc.{slider_max}\"\n",
    "    cv2.createTrackbar(trackbar_name, title_window, 0, slider_max, on_trackbar)\n",
    "\n",
    "    on_trackbar(0)\n",
    "\n",
    "    while True:\n",
    "        key = cv2.waitKey(1)\n",
    "        if key != -1:\n",
    "            break\n",
    "    cv2.destroyAllWindows()\n",
    "\n",
    "except:\n",
    "    cv2.destroyAllWindows()"
   ]
  }
 ],
 "metadata": {
  "colab": {
   "name": "Practica 06 - Introducción a OpenCV - Operaciones de punto.ipynb",
   "provenance": []
  },
  "kernelspec": {
   "display_name": "Python 3",
   "language": "python",
   "name": "python3"
  },
  "language_info": {
   "codemirror_mode": {
    "name": "ipython",
    "version": 3
   },
   "file_extension": ".py",
   "mimetype": "text/x-python",
   "name": "python",
   "nbconvert_exporter": "python",
   "pygments_lexer": "ipython3",
   "version": "3.6.6"
  },
  "varInspector": {
   "cols": {
    "lenName": 16,
    "lenType": 16,
    "lenVar": 40
   },
   "kernels_config": {
    "python": {
     "delete_cmd_postfix": "",
     "delete_cmd_prefix": "del ",
     "library": "var_list.py",
     "varRefreshCmd": "print(var_dic_list())"
    },
    "r": {
     "delete_cmd_postfix": ") ",
     "delete_cmd_prefix": "rm(",
     "library": "var_list.r",
     "varRefreshCmd": "cat(var_dic_list()) "
    }
   },
   "types_to_exclude": [
    "module",
    "function",
    "builtin_function_or_method",
    "instance",
    "_Feature"
   ],
   "window_display": false
  }
 },
 "nbformat": 4,
 "nbformat_minor": 1
}
